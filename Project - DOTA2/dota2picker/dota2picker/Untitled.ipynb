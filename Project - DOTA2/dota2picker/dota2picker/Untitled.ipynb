{
 "cells": [
  {
   "cell_type": "code",
   "execution_count": 1,
   "metadata": {},
   "outputs": [
    {
     "name": "stdout",
     "output_type": "stream",
     "text": [
      "{'localized_name': 'Monkey King', 'name': 'npc_dota_hero_monkey_king', 'id': 18, 'cat_wins': {'L1': 48.27, 'L2': 49.46, 'L3': 49.95, 'L4': 50.18, 'L5': 49.71}, 'data': {'best_vs': ['Meepo', 'Broodmother', 'Alchemist', 'Underlord', 'Anti-Mage'], 'best_vs_advantage': [6.64, 5.97, 5.4, 2.93, 2.83], 'worst_vs': ['Tinker', 'Outworld Devourer', 'Storm Spirit', 'Viper', 'Queen of Pain'], 'worst_vs_disadvantage': [3.37, 3.31, 3.03, 3, 2.71]}}\n"
     ]
    }
   ],
   "source": [
    "import os, json\n",
    "from collections import Counter \n",
    "with open('KES.json', 'r') as fp:\n",
    "    heroes = json.load(fp)\n",
    "    print(heroes[17])"
   ]
  },
  {
   "cell_type": "code",
   "execution_count": 2,
   "metadata": {},
   "outputs": [],
   "source": [
    "import os\n",
    "import json\n",
    "from collections import Counter\n",
    "\n",
    "with open('KES.json', 'r') as fp:\n",
    "    heroes = json.load(fp)\n",
    "\n",
    "\n",
    "def get_hero_human_readable(hero_id):\n",
    "    for hero in heroes:\n",
    "        if hero['id'] == hero_id:\n",
    "            return hero['localized_name']\n",
    "    return 'Unknown hero: %d' % hero_id\n",
    "\n",
    "\n",
    "class Engine:\n",
    "    def __init__(self, algorithm):\n",
    "        self.algorithm = algorithm\n",
    "\n",
    "    def recommend(self,my_team, their_team,medal_lvl):\n",
    "        '''Returns a list of (hero, probablility of winning with hero added) recommended to complete my_team.'''\n",
    "        my_team = list(my_team)\n",
    "        their_team = list(their_team)\n",
    "        \n",
    "        score = 0.0\n",
    "        medal_val = 0.0\n",
    "\n",
    "        medal_team = 0.0\n",
    "        medal_enemy = 0.0\n",
    "        \n",
    "        current_hero_names = []\n",
    "        \n",
    "        selection = []\n",
    "        \n",
    "        score_absolute  = 10\n",
    "\n",
    "        for hero_id_team in my_team:\n",
    "            \n",
    "            hero_data_team = heroes[hero_id_team - 1]\n",
    "            \n",
    "            current_hero_names.append(hero_data_team['localized_name'])\n",
    "            \n",
    "            lvl_id = 'L'+str(medal_lvl)\n",
    "            medal_team += hero_data_team['cat_wins'][lvl_id]\n",
    "\n",
    "            for hero_id_enemy in their_team:\n",
    "                hero_data_enemy = heroes[hero_id_enemy - 1]\n",
    "                \n",
    "                if hero_data_enemy['localized_name'] not in current_hero_names:\n",
    "                    current_hero_names.append(hero_data_enemy['localized_name'])\n",
    "                    \n",
    "                if hero_data_team['localized_name'] in hero_data_enemy['data']['best_vs']:\n",
    "                    index_of_hero = hero_data_enemy['data']['best_vs'].index(hero_data_team['localized_name'])\n",
    "                    score = score - hero_data_enemy['data']['best_vs_advantage'][index_of_hero]\n",
    "    \n",
    "                if hero_data_team['localized_name'] in hero_data_enemy['data']['worst_vs']:\n",
    "                    index_of_hero = hero_data_enemy['data']['worst_vs'].index(hero_data_team['localized_name'])\n",
    "                    score = score + hero_data_enemy['data']['worst_vs_disadvantage'][index_of_hero]\n",
    "                    \n",
    "                \n",
    "        for hero_id_enemy in their_team:\n",
    "            \n",
    "            hero_data_enemy = heroes[hero_id_enemy - 1]\n",
    "            \n",
    "            lvl_id = 'L'+str(medal_lvl)\n",
    "            medal_enemy += hero_data_enemy['cat_wins'][lvl_id]\n",
    "            \n",
    "\n",
    "            for i in range(len(hero_data_enemy['data']['worst_vs'])):\n",
    "                if hero_data_enemy['data']['worst_vs'][i] not in current_hero_names:\n",
    "                    selection.append((hero_data_enemy['data']['worst_vs'][i],int(hero_data_enemy['data']['worst_vs_disadvantage'][i]*100)))\n",
    "            \n",
    "            # printing original list \n",
    "        #print(\"The original list is : \" + str(selection) )\n",
    "\n",
    "        # Aggregate values by tuple keys \n",
    "        # using Counter() + generator expression \n",
    "        res = list(Counter(key for key, num in selection  \n",
    "                      for idx in range(num)).items()) \n",
    "        \n",
    "        values_only = [y for x,y in res]\n",
    "        if len(values_only) > 0:\n",
    "            score_absolute += max(values_only)\n",
    "        \n",
    "        selection = [(round(y / (score_absolute), 2),next((name['id'] for name in heroes if name['localized_name'] == x), None)) for x,y in res]\n",
    "        \n",
    "        selection = sorted(selection, key=lambda x: x[0], reverse=True)\n",
    "\n",
    "        # printing result \n",
    "        \n",
    "        if len(my_team) > 0 and len(their_team) > 0:\n",
    "            medal_team = medal_team / len(my_team)\n",
    "            medal_enemy = medal_enemy / len(their_team)\n",
    "        \n",
    "            medal_val = medal_team * 100 / (medal_team + medal_enemy)\n",
    "        \n",
    "            medal_val = ( medal_val + score ) / 100\n",
    "        else:\n",
    "            medal_val = 0.0\n",
    "\n",
    "        \n",
    "        if len(selection) > 5:\n",
    "            selection = selection[:5]\n",
    "        \n",
    "        return selection,medal_val"
   ]
  },
  {
   "cell_type": "code",
   "execution_count": 3,
   "metadata": {},
   "outputs": [
    {
     "name": "stdout",
     "output_type": "stream",
     "text": [
      " * Serving Flask app \"__main__\" (lazy loading)\n",
      " * Environment: production\n",
      "   WARNING: This is a development server. Do not use it in a production deployment.\n",
      "   Use a production WSGI server instead.\n",
      " * Debug mode: off\n"
     ]
    },
    {
     "name": "stderr",
     "output_type": "stream",
     "text": [
      " * Running on http://127.0.0.1:5000/ (Press CTRL+C to quit)\n",
      "127.0.0.1 - - [16/Apr/2020 15:21:34] \"\u001b[37mGET / HTTP/1.1\u001b[0m\" 200 -\n",
      "127.0.0.1 - - [16/Apr/2020 15:21:34] \"\u001b[37mGET /static/css/textboxlist.css HTTP/1.1\u001b[0m\" 200 -\n",
      "127.0.0.1 - - [16/Apr/2020 15:21:34] \"\u001b[37mGET /static/css/cloud.css HTTP/1.1\u001b[0m\" 200 -\n",
      "127.0.0.1 - - [16/Apr/2020 15:21:34] \"\u001b[37mGET /static/css/global.css HTTP/1.1\u001b[0m\" 200 -\n",
      "127.0.0.1 - - [16/Apr/2020 15:21:34] \"\u001b[37mGET /static/lib/prototype.js HTTP/1.1\u001b[0m\" 200 -\n",
      "127.0.0.1 - - [16/Apr/2020 15:21:34] \"\u001b[37mGET /static/lib/TextBoxList.js HTTP/1.1\u001b[0m\" 200 -\n",
      "127.0.0.1 - - [16/Apr/2020 15:21:34] \"\u001b[37mGET /static/index.js HTTP/1.1\u001b[0m\" 200 -\n",
      "127.0.0.1 - - [16/Apr/2020 15:21:34] \"\u001b[37mGET /static/lib/S2.js HTTP/1.1\u001b[0m\" 200 -\n",
      "127.0.0.1 - - [16/Apr/2020 15:21:34] \"\u001b[37mGET /static/src/ScaleColor.js HTTP/1.1\u001b[0m\" 200 -\n",
      "127.0.0.1 - - [16/Apr/2020 15:21:34] \"\u001b[37mGET /static/src/ProtoCloud.js HTTP/1.1\u001b[0m\" 200 -\n",
      "127.0.0.1 - - [16/Apr/2020 15:21:34] \"\u001b[37mGET /static/data/levels.json HTTP/1.1\u001b[0m\" 200 -\n",
      "127.0.0.1 - - [16/Apr/2020 15:21:34] \"\u001b[37mGET /static/data/KES.json HTTP/1.1\u001b[0m\" 200 -\n",
      "127.0.0.1 - - [16/Apr/2020 15:21:34] \"\u001b[37mGET /api/suggest/?x=&y=&z= HTTP/1.1\u001b[0m\" 200 -\n"
     ]
    },
    {
     "name": "stdout",
     "output_type": "stream",
     "text": [
      "[] 0.0\n"
     ]
    },
    {
     "name": "stderr",
     "output_type": "stream",
     "text": [
      "127.0.0.1 - - [16/Apr/2020 15:21:36] \"\u001b[37mGET /api/suggest/?x=&y=&z=2 HTTP/1.1\u001b[0m\" 200 -\n",
      "127.0.0.1 - - [16/Apr/2020 15:21:36] \"\u001b[37mGET /static/lib/close.gif HTTP/1.1\u001b[0m\" 200 -\n"
     ]
    },
    {
     "name": "stdout",
     "output_type": "stream",
     "text": [
      "[] 0.0\n"
     ]
    },
    {
     "name": "stderr",
     "output_type": "stream",
     "text": [
      "127.0.0.1 - - [16/Apr/2020 15:21:39] \"\u001b[37mGET /api/suggest/?x=&y=46&z=2 HTTP/1.1\u001b[0m\" 200 -\n"
     ]
    },
    {
     "name": "stdout",
     "output_type": "stream",
     "text": [
      "[17, 77, 88, 4, 19] 0.0\n"
     ]
    },
    {
     "name": "stderr",
     "output_type": "stream",
     "text": [
      "127.0.0.1 - - [16/Apr/2020 15:21:44] \"\u001b[37mGET /api/suggest/?x=17&y=46&z=2 HTTP/1.1\u001b[0m\" 200 -\n"
     ]
    },
    {
     "name": "stdout",
     "output_type": "stream",
     "text": [
      "[77, 88, 4, 19] 0.56\n"
     ]
    },
    {
     "name": "stderr",
     "output_type": "stream",
     "text": [
      "127.0.0.1 - - [16/Apr/2020 15:21:48] \"\u001b[37mGET /api/suggest/?x=17,77&y=46&z=2 HTTP/1.1\u001b[0m\" 200 -\n"
     ]
    },
    {
     "name": "stdout",
     "output_type": "stream",
     "text": [
      "[88, 4, 19] 0.61\n"
     ]
    },
    {
     "name": "stderr",
     "output_type": "stream",
     "text": [
      "127.0.0.1 - - [16/Apr/2020 15:21:53] \"\u001b[37mGET /api/suggest/?x=17&y=46&z=2 HTTP/1.1\u001b[0m\" 200 -\n"
     ]
    },
    {
     "name": "stdout",
     "output_type": "stream",
     "text": [
      "[77, 88, 4, 19] 0.56\n"
     ]
    },
    {
     "name": "stderr",
     "output_type": "stream",
     "text": [
      "127.0.0.1 - - [16/Apr/2020 15:22:00] \"\u001b[37mGET /api/suggest/?x=&y=46&z=2 HTTP/1.1\u001b[0m\" 200 -\n"
     ]
    },
    {
     "name": "stdout",
     "output_type": "stream",
     "text": [
      "[17, 77, 88, 4, 19] 0.0\n"
     ]
    },
    {
     "name": "stderr",
     "output_type": "stream",
     "text": [
      "127.0.0.1 - - [16/Apr/2020 15:22:01] \"\u001b[37mGET /api/suggest/?x=&y=&z=2 HTTP/1.1\u001b[0m\" 200 -\n"
     ]
    },
    {
     "name": "stdout",
     "output_type": "stream",
     "text": [
      "[] 0.0\n"
     ]
    },
    {
     "name": "stderr",
     "output_type": "stream",
     "text": [
      "127.0.0.1 - - [16/Apr/2020 15:22:03] \"\u001b[37mGET /api/suggest/?x=&y=17&z=2 HTTP/1.1\u001b[0m\" 200 -\n"
     ]
    },
    {
     "name": "stdout",
     "output_type": "stream",
     "text": [
      "[120, 8, 31, 84, 42] 0.0\n"
     ]
    },
    {
     "name": "stderr",
     "output_type": "stream",
     "text": [
      "127.0.0.1 - - [16/Apr/2020 15:22:07] \"\u001b[37mGET /api/suggest/?x=120&y=17&z=2 HTTP/1.1\u001b[0m\" 200 -\n"
     ]
    },
    {
     "name": "stdout",
     "output_type": "stream",
     "text": [
      "[8, 31, 84, 42] 0.64\n"
     ]
    },
    {
     "name": "stderr",
     "output_type": "stream",
     "text": [
      "127.0.0.1 - - [16/Apr/2020 15:22:10] \"\u001b[37mGET /api/suggest/?x=&y=17&z=2 HTTP/1.1\u001b[0m\" 200 -\n"
     ]
    },
    {
     "name": "stdout",
     "output_type": "stream",
     "text": [
      "[120, 8, 31, 84, 42] 0.0\n"
     ]
    },
    {
     "name": "stderr",
     "output_type": "stream",
     "text": [
      "127.0.0.1 - - [16/Apr/2020 15:22:11] \"\u001b[37mGET /api/suggest/?x=&y=&z=2 HTTP/1.1\u001b[0m\" 200 -\n"
     ]
    },
    {
     "name": "stdout",
     "output_type": "stream",
     "text": [
      "[] 0.0\n"
     ]
    }
   ],
   "source": [
    "from flask import Flask, render_template, request\n",
    "# from engine import Engine\n",
    "import json\n",
    "\n",
    "URL_PREFIX = ''\n",
    "\n",
    "app = Flask(__name__)\n",
    "#engine = Engine(D2KNearestNeighbors())\n",
    "engine = Engine(\"\")\n",
    "\n",
    "def get_api_string(recommendations, prob):\n",
    "    recommendations = list(map(str, recommendations))\n",
    "    return json.dumps({'x': recommendations, 'prob_x': prob})\n",
    "\n",
    "@app.route(\"/\")\n",
    "def index():\n",
    "    return render_template('index.html')\n",
    "\n",
    "@app.route(URL_PREFIX + \"/api/suggest/\")\n",
    "def api():\n",
    "    if 'x' not in request.args or 'y' not in request.args or 'z' not in request.args:\n",
    "        return 'Invalid request'\n",
    "    my_team = request.args['x'].split(',')\n",
    "    if len(my_team) == 1 and my_team[0] == '':\n",
    "        my_team = []\n",
    "    else:\n",
    "        my_team = map(int, my_team)\n",
    "\n",
    "    their_team = request.args['y'].split(',')\n",
    "    if len(their_team) == 1 and their_team[0] == '':\n",
    "        their_team = []\n",
    "    else:\n",
    "        their_team = map(int, their_team)\n",
    "\n",
    "    medal_lvl = request.args['z'].split(',')\n",
    "    if len(medal_lvl) == 1 and medal_lvl[0] == '':\n",
    "        medal_lvl = 1\n",
    "    else:\n",
    "        medal_lvl = medal_lvl[0]\n",
    "\n",
    "    prob_recommendation_pairs,prob = engine.recommend(my_team, their_team,medal_lvl)\n",
    "    recommendations = [hero for prob, hero in prob_recommendation_pairs]\n",
    "    print(recommendations, round(prob, 2))\n",
    "    return get_api_string(recommendations, round(prob, 2))\n",
    "\n",
    "if __name__ == \"__main__\":\n",
    "    app.debug = False\n",
    "    app.run()\n"
   ]
  },
  {
   "cell_type": "code",
   "execution_count": null,
   "metadata": {},
   "outputs": [],
   "source": []
  }
 ],
 "metadata": {
  "kernelspec": {
   "display_name": "Python 3",
   "language": "python",
   "name": "python3"
  },
  "language_info": {
   "codemirror_mode": {
    "name": "ipython",
    "version": 3
   },
   "file_extension": ".py",
   "mimetype": "text/x-python",
   "name": "python",
   "nbconvert_exporter": "python",
   "pygments_lexer": "ipython3",
   "version": "3.7.6"
  }
 },
 "nbformat": 4,
 "nbformat_minor": 4
}
